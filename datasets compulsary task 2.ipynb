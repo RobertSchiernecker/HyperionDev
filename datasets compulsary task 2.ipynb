{
 "cells": [
  {
   "cell_type": "code",
   "execution_count": 1,
   "metadata": {
    "id": "h0LVvvnfJsg5"
   },
   "outputs": [],
   "source": [
    "# Import pandas\n",
    "import pandas as pd"
   ]
  },
  {
   "cell_type": "code",
   "execution_count": 2,
   "metadata": {
    "id": "rv2oLRnPK36J"
   },
   "outputs": [],
   "source": [
    "# Create a DataFrame with balance.txt\n",
    "df = pd.read_csv('balance.txt', delim_whitespace=True)"
   ]
  },
  {
   "cell_type": "markdown",
   "metadata": {
    "id": "_LXpBJXZLYoh"
   },
   "source": [
    "Write the code needed to produce a report that provides the following information:\n",
    "* Compare the average income based on ethnicity. \n",
    "* On average, do married or single people have a higher balance?\n",
    "* What is the highest income in our dataset?\n",
    "* What is the lowest income in our dataset?\n",
    "* How many cards do we have recorded in our dataset? (Hint: use `sum()`)\n",
    "* How many females do we have information for vs how many males? (Hint: use `count()`For a list of all methods for computation of descriptive stats, explore the [pandas documentation](https://pandas.pydata.org/pandas-docs/stable/reference/frame.html#computations-descriptive-stats)). \n",
    "\n",
    "\n"
   ]
  },
  {
   "cell_type": "code",
   "execution_count": 4,
   "metadata": {},
   "outputs": [
    {
     "name": "stdout",
     "output_type": "stream",
     "text": [
      "The average income of an African American is 47.68210101010099\n",
      "The average income of an Asian is 44.18783333333334\n",
      "The average income of an Caucasian is 44.521944723618084\n"
     ]
    }
   ],
   "source": [
    "print(\"The average income of an African American is\", df[df.Ethnicity == \"African American\"].loc[:,\"Income\"].mean())\n",
    "print(\"The average income of an Asian is\", df[df.Ethnicity == \"Asian\"].loc[:,\"Income\"].mean())\n",
    "print(\"The average income of an Caucasian is\", df[df.Ethnicity == \"Caucasian\"].loc[:,\"Income\"].mean())\n"
   ]
  },
  {
   "cell_type": "code",
   "execution_count": 7,
   "metadata": {},
   "outputs": [
    {
     "name": "stdout",
     "output_type": "stream",
     "text": [
      "The average balance of someone who is married is 13.388473477498913\n",
      "The average balance of someone who is not married is 13.493509015134242\n"
     ]
    }
   ],
   "source": [
    "print(\"The average balance of someone who is married is\", df[df.Married == \"Yes\"].loc[:,\"Balance\"].mean())\n",
    "print(\"The average balance of someone who is not married is\", df[df.Married == \"No\"].loc[:,\"Balance\"].mean())"
   ]
  },
  {
   "cell_type": "code",
   "execution_count": 8,
   "metadata": {},
   "outputs": [
    {
     "name": "stdout",
     "output_type": "stream",
     "text": [
      "The highest income is 186.634\n",
      "The lowest income is 10.354\n"
     ]
    }
   ],
   "source": [
    "print(\"The highest income is\", df.loc[:, \"Income\"].max())\n",
    "print(\"The lowest income is\", df.loc[:, \"Income\"].min())"
   ]
  },
  {
   "cell_type": "code",
   "execution_count": 9,
   "metadata": {},
   "outputs": [
    {
     "name": "stdout",
     "output_type": "stream",
     "text": [
      "The amount of cards in the dataset is 1183\n"
     ]
    }
   ],
   "source": [
    "print(\"The amount of cards in the dataset is\", df.loc[:, \"Cards\"].sum())"
   ]
  },
  {
   "cell_type": "code",
   "execution_count": 10,
   "metadata": {},
   "outputs": [
    {
     "name": "stdout",
     "output_type": "stream",
     "text": [
      "The amount of males we have data for is Balance      193\n",
      "Income       193\n",
      "Limit        193\n",
      "Rating       193\n",
      "Cards        193\n",
      "Age          193\n",
      "Education    193\n",
      "Gender       193\n",
      "Student      193\n",
      "Married      193\n",
      "Ethnicity    193\n",
      "dtype: int64\n"
     ]
    }
   ],
   "source": [
    "print(\"The amount of males we have data for is\", df[df.Gender == \"Male\"].loc[:, ].count())"
   ]
  },
  {
   "cell_type": "code",
   "execution_count": 11,
   "metadata": {},
   "outputs": [
    {
     "name": "stdout",
     "output_type": "stream",
     "text": [
      "The amount of females we have data for is Balance      207\n",
      "Income       207\n",
      "Limit        207\n",
      "Rating       207\n",
      "Cards        207\n",
      "Age          207\n",
      "Education    207\n",
      "Gender       207\n",
      "Student      207\n",
      "Married      207\n",
      "Ethnicity    207\n",
      "dtype: int64\n"
     ]
    }
   ],
   "source": [
    "print(\"The amount of females we have data for is\", df[df.Gender == \"Female\"].loc[:, ].count())"
   ]
  },
  {
   "cell_type": "code",
   "execution_count": null,
   "metadata": {},
   "outputs": [],
   "source": []
  },
  {
   "cell_type": "code",
   "execution_count": null,
   "metadata": {},
   "outputs": [],
   "source": []
  }
 ],
 "metadata": {
  "colab": {
   "authorship_tag": "ABX9TyP5J3xG1JXUCQAkP9OLQqdU",
   "provenance": []
  },
  "kernelspec": {
   "display_name": "Python 3 (ipykernel)",
   "language": "python",
   "name": "python3"
  },
  "language_info": {
   "codemirror_mode": {
    "name": "ipython",
    "version": 3
   },
   "file_extension": ".py",
   "mimetype": "text/x-python",
   "name": "python",
   "nbconvert_exporter": "python",
   "pygments_lexer": "ipython3",
   "version": "3.9.2"
  }
 },
 "nbformat": 4,
 "nbformat_minor": 1
}
